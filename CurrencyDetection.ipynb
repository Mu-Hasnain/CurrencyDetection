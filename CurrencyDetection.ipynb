{
  "nbformat": 4,
  "nbformat_minor": 0,
  "metadata": {
    "colab": {
      "name": "Copy_of_Untitled0.ipynb",
      "provenance": [],
      "collapsed_sections": [],
      "include_colab_link": true
    },
    "kernelspec": {
      "display_name": "Python 3",
      "name": "python3"
    },
    "language_info": {
      "name": "python"
    },
    "gpuClass": "standard",
    "accelerator": "GPU"
  },
  "cells": [
    {
      "cell_type": "markdown",
      "metadata": {
        "id": "view-in-github",
        "colab_type": "text"
      },
      "source": [
        "<a href=\"https://colab.research.google.com/github/Mu-Hasnain/CurrencyDetection/blob/main/CurrencyDetection.ipynb\" target=\"_parent\"><img src=\"https://colab.research.google.com/assets/colab-badge.svg\" alt=\"Open In Colab\"/></a>"
      ]
    },
    {
      "cell_type": "code",
      "metadata": {
        "id": "5irVEgyXwL7a",
        "colab": {
          "base_uri": "https://localhost:8080/"
        },
        "outputId": "1a8a32f2-bbbd-4059-9ee4-ed39c4f65fc4"
      },
      "source": [
        "!pip install gtts"
      ],
      "execution_count": 1,
      "outputs": [
        {
          "output_type": "stream",
          "name": "stdout",
          "text": [
            "Looking in indexes: https://pypi.org/simple, https://us-python.pkg.dev/colab-wheels/public/simple/\n",
            "Requirement already satisfied: gtts in /usr/local/lib/python3.7/dist-packages (2.2.4)\n",
            "Requirement already satisfied: requests in /usr/local/lib/python3.7/dist-packages (from gtts) (2.23.0)\n",
            "Requirement already satisfied: six in /usr/local/lib/python3.7/dist-packages (from gtts) (1.15.0)\n",
            "Requirement already satisfied: click in /usr/local/lib/python3.7/dist-packages (from gtts) (7.1.2)\n",
            "Requirement already satisfied: certifi>=2017.4.17 in /usr/local/lib/python3.7/dist-packages (from requests->gtts) (2022.6.15)\n",
            "Requirement already satisfied: chardet<4,>=3.0.2 in /usr/local/lib/python3.7/dist-packages (from requests->gtts) (3.0.4)\n",
            "Requirement already satisfied: urllib3!=1.25.0,!=1.25.1,<1.26,>=1.21.1 in /usr/local/lib/python3.7/dist-packages (from requests->gtts) (1.24.3)\n",
            "Requirement already satisfied: idna<3,>=2.5 in /usr/local/lib/python3.7/dist-packages (from requests->gtts) (2.10)\n"
          ]
        }
      ]
    },
    {
      "cell_type": "code",
      "metadata": {
        "id": "ymDZNkRykNlZ"
      },
      "source": [
        "import matplotlib.pyplot as plt\n",
        "import numpy as np\n",
        "import os\n",
        "import PIL\n",
        "import tensorflow as tf\n",
        "from gtts import gTTS\n",
        "import cv2 \n",
        "from tensorflow import keras\n",
        "from tensorflow.keras import layers\n",
        "from IPython.display import Audio\n",
        "from tensorflow.keras.models import Sequential\n",
        "from keras.models import load_model\n",
        "from keras import models"
      ],
      "execution_count": 2,
      "outputs": []
    },
    {
      "cell_type": "code",
      "metadata": {
        "id": "LKxXUgdjkck4",
        "colab": {
          "base_uri": "https://localhost:8080/",
          "height": 1000
        },
        "outputId": "406bcf61-007f-4883-fd07-928bcc27dd89"
      },
      "source": [
        "!pip install tensorflow-gpu"
      ],
      "execution_count": 3,
      "outputs": [
        {
          "output_type": "stream",
          "name": "stdout",
          "text": [
            "Looking in indexes: https://pypi.org/simple, https://us-python.pkg.dev/colab-wheels/public/simple/\n",
            "Collecting tensorflow-gpu\n",
            "  Downloading tensorflow_gpu-2.9.1-cp37-cp37m-manylinux_2_17_x86_64.manylinux2014_x86_64.whl (511.7 MB)\n",
            "\u001b[K     |████████████████████████████████| 511.7 MB 6.0 kB/s \n",
            "\u001b[?25hCollecting tensorboard<2.10,>=2.9\n",
            "  Downloading tensorboard-2.9.1-py3-none-any.whl (5.8 MB)\n",
            "\u001b[K     |████████████████████████████████| 5.8 MB 59.1 MB/s \n",
            "\u001b[?25hRequirement already satisfied: six>=1.12.0 in /usr/local/lib/python3.7/dist-packages (from tensorflow-gpu) (1.15.0)\n",
            "Requirement already satisfied: grpcio<2.0,>=1.24.3 in /usr/local/lib/python3.7/dist-packages (from tensorflow-gpu) (1.47.0)\n",
            "Requirement already satisfied: absl-py>=1.0.0 in /usr/local/lib/python3.7/dist-packages (from tensorflow-gpu) (1.2.0)\n",
            "Requirement already satisfied: protobuf<3.20,>=3.9.2 in /usr/local/lib/python3.7/dist-packages (from tensorflow-gpu) (3.17.3)\n",
            "Requirement already satisfied: opt-einsum>=2.3.2 in /usr/local/lib/python3.7/dist-packages (from tensorflow-gpu) (3.3.0)\n",
            "Requirement already satisfied: keras-preprocessing>=1.1.1 in /usr/local/lib/python3.7/dist-packages (from tensorflow-gpu) (1.1.2)\n",
            "Requirement already satisfied: tensorflow-io-gcs-filesystem>=0.23.1 in /usr/local/lib/python3.7/dist-packages (from tensorflow-gpu) (0.26.0)\n",
            "Requirement already satisfied: libclang>=13.0.0 in /usr/local/lib/python3.7/dist-packages (from tensorflow-gpu) (14.0.1)\n",
            "Requirement already satisfied: h5py>=2.9.0 in /usr/local/lib/python3.7/dist-packages (from tensorflow-gpu) (3.1.0)\n",
            "Requirement already satisfied: setuptools in /usr/local/lib/python3.7/dist-packages (from tensorflow-gpu) (57.4.0)\n",
            "Requirement already satisfied: google-pasta>=0.1.1 in /usr/local/lib/python3.7/dist-packages (from tensorflow-gpu) (0.2.0)\n",
            "Collecting flatbuffers<2,>=1.12\n",
            "  Downloading flatbuffers-1.12-py2.py3-none-any.whl (15 kB)\n",
            "Requirement already satisfied: termcolor>=1.1.0 in /usr/local/lib/python3.7/dist-packages (from tensorflow-gpu) (1.1.0)\n",
            "Collecting gast<=0.4.0,>=0.2.1\n",
            "  Downloading gast-0.4.0-py3-none-any.whl (9.8 kB)\n",
            "Requirement already satisfied: numpy>=1.20 in /usr/local/lib/python3.7/dist-packages (from tensorflow-gpu) (1.21.6)\n",
            "Collecting tensorflow-estimator<2.10.0,>=2.9.0rc0\n",
            "  Downloading tensorflow_estimator-2.9.0-py2.py3-none-any.whl (438 kB)\n",
            "\u001b[K     |████████████████████████████████| 438 kB 70.0 MB/s \n",
            "\u001b[?25hRequirement already satisfied: wrapt>=1.11.0 in /usr/local/lib/python3.7/dist-packages (from tensorflow-gpu) (1.14.1)\n",
            "Requirement already satisfied: astunparse>=1.6.0 in /usr/local/lib/python3.7/dist-packages (from tensorflow-gpu) (1.6.3)\n",
            "Requirement already satisfied: packaging in /usr/local/lib/python3.7/dist-packages (from tensorflow-gpu) (21.3)\n",
            "Requirement already satisfied: typing-extensions>=3.6.6 in /usr/local/lib/python3.7/dist-packages (from tensorflow-gpu) (4.1.1)\n",
            "Collecting keras<2.10.0,>=2.9.0rc0\n",
            "  Downloading keras-2.9.0-py2.py3-none-any.whl (1.6 MB)\n",
            "\u001b[K     |████████████████████████████████| 1.6 MB 19.9 MB/s \n",
            "\u001b[?25hRequirement already satisfied: wheel<1.0,>=0.23.0 in /usr/local/lib/python3.7/dist-packages (from astunparse>=1.6.0->tensorflow-gpu) (0.37.1)\n",
            "Requirement already satisfied: cached-property in /usr/local/lib/python3.7/dist-packages (from h5py>=2.9.0->tensorflow-gpu) (1.5.2)\n",
            "Requirement already satisfied: markdown>=2.6.8 in /usr/local/lib/python3.7/dist-packages (from tensorboard<2.10,>=2.9->tensorflow-gpu) (3.4.1)\n",
            "Requirement already satisfied: tensorboard-plugin-wit>=1.6.0 in /usr/local/lib/python3.7/dist-packages (from tensorboard<2.10,>=2.9->tensorflow-gpu) (1.8.1)\n",
            "Requirement already satisfied: google-auth-oauthlib<0.5,>=0.4.1 in /usr/local/lib/python3.7/dist-packages (from tensorboard<2.10,>=2.9->tensorflow-gpu) (0.4.6)\n",
            "Requirement already satisfied: werkzeug>=1.0.1 in /usr/local/lib/python3.7/dist-packages (from tensorboard<2.10,>=2.9->tensorflow-gpu) (1.0.1)\n",
            "Requirement already satisfied: requests<3,>=2.21.0 in /usr/local/lib/python3.7/dist-packages (from tensorboard<2.10,>=2.9->tensorflow-gpu) (2.23.0)\n",
            "Requirement already satisfied: google-auth<3,>=1.6.3 in /usr/local/lib/python3.7/dist-packages (from tensorboard<2.10,>=2.9->tensorflow-gpu) (1.35.0)\n",
            "Requirement already satisfied: tensorboard-data-server<0.7.0,>=0.6.0 in /usr/local/lib/python3.7/dist-packages (from tensorboard<2.10,>=2.9->tensorflow-gpu) (0.6.1)\n",
            "Requirement already satisfied: cachetools<5.0,>=2.0.0 in /usr/local/lib/python3.7/dist-packages (from google-auth<3,>=1.6.3->tensorboard<2.10,>=2.9->tensorflow-gpu) (4.2.4)\n",
            "Requirement already satisfied: pyasn1-modules>=0.2.1 in /usr/local/lib/python3.7/dist-packages (from google-auth<3,>=1.6.3->tensorboard<2.10,>=2.9->tensorflow-gpu) (0.2.8)\n",
            "Requirement already satisfied: rsa<5,>=3.1.4 in /usr/local/lib/python3.7/dist-packages (from google-auth<3,>=1.6.3->tensorboard<2.10,>=2.9->tensorflow-gpu) (4.9)\n",
            "Requirement already satisfied: requests-oauthlib>=0.7.0 in /usr/local/lib/python3.7/dist-packages (from google-auth-oauthlib<0.5,>=0.4.1->tensorboard<2.10,>=2.9->tensorflow-gpu) (1.3.1)\n",
            "Requirement already satisfied: importlib-metadata>=4.4 in /usr/local/lib/python3.7/dist-packages (from markdown>=2.6.8->tensorboard<2.10,>=2.9->tensorflow-gpu) (4.12.0)\n",
            "Requirement already satisfied: zipp>=0.5 in /usr/local/lib/python3.7/dist-packages (from importlib-metadata>=4.4->markdown>=2.6.8->tensorboard<2.10,>=2.9->tensorflow-gpu) (3.8.1)\n",
            "Requirement already satisfied: pyasn1<0.5.0,>=0.4.6 in /usr/local/lib/python3.7/dist-packages (from pyasn1-modules>=0.2.1->google-auth<3,>=1.6.3->tensorboard<2.10,>=2.9->tensorflow-gpu) (0.4.8)\n",
            "Requirement already satisfied: urllib3!=1.25.0,!=1.25.1,<1.26,>=1.21.1 in /usr/local/lib/python3.7/dist-packages (from requests<3,>=2.21.0->tensorboard<2.10,>=2.9->tensorflow-gpu) (1.24.3)\n",
            "Requirement already satisfied: idna<3,>=2.5 in /usr/local/lib/python3.7/dist-packages (from requests<3,>=2.21.0->tensorboard<2.10,>=2.9->tensorflow-gpu) (2.10)\n",
            "Requirement already satisfied: chardet<4,>=3.0.2 in /usr/local/lib/python3.7/dist-packages (from requests<3,>=2.21.0->tensorboard<2.10,>=2.9->tensorflow-gpu) (3.0.4)\n",
            "Requirement already satisfied: certifi>=2017.4.17 in /usr/local/lib/python3.7/dist-packages (from requests<3,>=2.21.0->tensorboard<2.10,>=2.9->tensorflow-gpu) (2022.6.15)\n",
            "Requirement already satisfied: oauthlib>=3.0.0 in /usr/local/lib/python3.7/dist-packages (from requests-oauthlib>=0.7.0->google-auth-oauthlib<0.5,>=0.4.1->tensorboard<2.10,>=2.9->tensorflow-gpu) (3.2.0)\n",
            "Requirement already satisfied: pyparsing!=3.0.5,>=2.0.2 in /usr/local/lib/python3.7/dist-packages (from packaging->tensorflow-gpu) (3.0.9)\n",
            "Installing collected packages: tensorflow-estimator, tensorboard, keras, gast, flatbuffers, tensorflow-gpu\n",
            "  Attempting uninstall: tensorflow-estimator\n",
            "    Found existing installation: tensorflow-estimator 2.8.0\n",
            "    Uninstalling tensorflow-estimator-2.8.0:\n",
            "      Successfully uninstalled tensorflow-estimator-2.8.0\n",
            "  Attempting uninstall: tensorboard\n",
            "    Found existing installation: tensorboard 2.8.0\n",
            "    Uninstalling tensorboard-2.8.0:\n",
            "      Successfully uninstalled tensorboard-2.8.0\n",
            "  Attempting uninstall: keras\n",
            "    Found existing installation: keras 2.8.0\n",
            "    Uninstalling keras-2.8.0:\n",
            "      Successfully uninstalled keras-2.8.0\n",
            "  Attempting uninstall: gast\n",
            "    Found existing installation: gast 0.5.3\n",
            "    Uninstalling gast-0.5.3:\n",
            "      Successfully uninstalled gast-0.5.3\n",
            "  Attempting uninstall: flatbuffers\n",
            "    Found existing installation: flatbuffers 2.0\n",
            "    Uninstalling flatbuffers-2.0:\n",
            "      Successfully uninstalled flatbuffers-2.0\n",
            "\u001b[31mERROR: pip's dependency resolver does not currently take into account all the packages that are installed. This behaviour is the source of the following dependency conflicts.\n",
            "tensorflow 2.8.2+zzzcolab20220719082949 requires keras<2.9,>=2.8.0rc0, but you have keras 2.9.0 which is incompatible.\n",
            "tensorflow 2.8.2+zzzcolab20220719082949 requires tensorboard<2.9,>=2.8, but you have tensorboard 2.9.1 which is incompatible.\n",
            "tensorflow 2.8.2+zzzcolab20220719082949 requires tensorflow-estimator<2.9,>=2.8, but you have tensorflow-estimator 2.9.0 which is incompatible.\u001b[0m\n",
            "Successfully installed flatbuffers-1.12 gast-0.4.0 keras-2.9.0 tensorboard-2.9.1 tensorflow-estimator-2.9.0 tensorflow-gpu-2.9.1\n"
          ]
        },
        {
          "output_type": "display_data",
          "data": {
            "application/vnd.colab-display-data+json": {
              "pip_warning": {
                "packages": [
                  "flatbuffers",
                  "gast",
                  "keras",
                  "tensorboard",
                  "tensorflow"
                ]
              }
            }
          },
          "metadata": {}
        }
      ]
    },
    {
      "cell_type": "code",
      "metadata": {
        "id": "ytQWpXLdk1GI",
        "colab": {
          "base_uri": "https://localhost:8080/"
        },
        "outputId": "d7aea03a-6b54-4e2c-b82c-bec7f0a7f3bf"
      },
      "source": [
        "!nvidia-smi"
      ],
      "execution_count": 4,
      "outputs": [
        {
          "output_type": "stream",
          "name": "stdout",
          "text": [
            "Tue Jul 26 18:15:13 2022       \n",
            "+-----------------------------------------------------------------------------+\n",
            "| NVIDIA-SMI 460.32.03    Driver Version: 460.32.03    CUDA Version: 11.2     |\n",
            "|-------------------------------+----------------------+----------------------+\n",
            "| GPU  Name        Persistence-M| Bus-Id        Disp.A | Volatile Uncorr. ECC |\n",
            "| Fan  Temp  Perf  Pwr:Usage/Cap|         Memory-Usage | GPU-Util  Compute M. |\n",
            "|                               |                      |               MIG M. |\n",
            "|===============================+======================+======================|\n",
            "|   0  Tesla T4            Off  | 00000000:00:04.0 Off |                    0 |\n",
            "| N/A   42C    P8    10W /  70W |      0MiB / 15109MiB |      0%      Default |\n",
            "|                               |                      |                  N/A |\n",
            "+-------------------------------+----------------------+----------------------+\n",
            "                                                                               \n",
            "+-----------------------------------------------------------------------------+\n",
            "| Processes:                                                                  |\n",
            "|  GPU   GI   CI        PID   Type   Process name                  GPU Memory |\n",
            "|        ID   ID                                                   Usage      |\n",
            "|=============================================================================|\n",
            "|  No running processes found                                                 |\n",
            "+-----------------------------------------------------------------------------+\n"
          ]
        }
      ]
    },
    {
      "cell_type": "code",
      "metadata": {
        "id": "wTgV15M9lNFf",
        "colab": {
          "base_uri": "https://localhost:8080/",
          "height": 35
        },
        "outputId": "3a4e69ec-3d78-4d0b-c3a3-528b13eaa270"
      },
      "source": [
        "tf.__version__"
      ],
      "execution_count": 5,
      "outputs": [
        {
          "output_type": "execute_result",
          "data": {
            "text/plain": [
              "'2.8.2'"
            ],
            "application/vnd.google.colaboratory.intrinsic+json": {
              "type": "string"
            }
          },
          "metadata": {},
          "execution_count": 5
        }
      ]
    },
    {
      "cell_type": "code",
      "metadata": {
        "id": "QYZuCmIPlPtB",
        "colab": {
          "base_uri": "https://localhost:8080/"
        },
        "outputId": "7ff05374-5518-44d0-88b6-b5b6671588b7"
      },
      "source": [
        "from google.colab import drive\n",
        "drive.mount('/content/drive')"
      ],
      "execution_count": 6,
      "outputs": [
        {
          "output_type": "stream",
          "name": "stdout",
          "text": [
            "Mounted at /content/drive\n"
          ]
        }
      ]
    },
    {
      "cell_type": "code",
      "metadata": {
        "id": "dSD9pVyVmRHx"
      },
      "source": [
        "train=\"/content/drive/MyDrive/train\""
      ],
      "execution_count": 7,
      "outputs": []
    },
    {
      "cell_type": "code",
      "metadata": {
        "id": "kTSB2v4qmpq-"
      },
      "source": [
        "test=\"/content/drive/MyDrive/dataset/Testdata\""
      ],
      "execution_count": 8,
      "outputs": []
    },
    {
      "cell_type": "code",
      "metadata": {
        "id": "S2wamqyGnK5d",
        "colab": {
          "base_uri": "https://localhost:8080/",
          "height": 35
        },
        "outputId": "81048f19-6a22-467f-a165-d6c69e580450"
      },
      "source": [
        "train"
      ],
      "execution_count": 9,
      "outputs": [
        {
          "output_type": "execute_result",
          "data": {
            "text/plain": [
              "'/content/drive/MyDrive/train'"
            ],
            "application/vnd.google.colaboratory.intrinsic+json": {
              "type": "string"
            }
          },
          "metadata": {},
          "execution_count": 9
        }
      ]
    },
    {
      "cell_type": "code",
      "metadata": {
        "id": "oEnBwmY_ncjz"
      },
      "source": [
        "ImageDataGenerator = tf.keras.preprocessing.image.ImageDataGenerator"
      ],
      "execution_count": 10,
      "outputs": []
    },
    {
      "cell_type": "code",
      "metadata": {
        "id": "-VZLqe-2niEZ",
        "colab": {
          "base_uri": "https://localhost:8080/"
        },
        "outputId": "ff6cee6a-1e7f-4918-c8d4-8327e6d85911"
      },
      "source": [
        "TRAINING_DIR = \"/content/drive/MyDrive/dataset/Traindata\"\n",
        "train_datagen = ImageDataGenerator(rescale=1.0/255.,shear_range=0.2,\n",
        "                                       zoom_range=0.4,\n",
        "                                       horizontal_flip=True, \n",
        "                                         )\n",
        "train_generator = train_datagen.flow_from_directory(TRAINING_DIR,\n",
        "                                                    batch_size=30,\n",
        "                                                    class_mode='binary',\n",
        "                                                    target_size=(256, 256))"
      ],
      "execution_count": 11,
      "outputs": [
        {
          "output_type": "stream",
          "name": "stdout",
          "text": [
            "Found 700 images belonging to 7 classes.\n"
          ]
        }
      ]
    },
    {
      "cell_type": "code",
      "metadata": {
        "id": "KVBFY7zm7qB5",
        "colab": {
          "base_uri": "https://localhost:8080/"
        },
        "outputId": "ca0cd4ce-059c-4c74-e0ad-cb54e80f5f22"
      },
      "source": [
        "VALIDATION_DIR = \"/content/drive/MyDrive/dataset/Testdata\"\n",
        "validation_datagen = ImageDataGenerator(rescale=1.0/255.,shear_range=0.2,\n",
        "                                       zoom_range=0.6,\n",
        "                                       horizontal_flip=True)\n",
        "validation_generator = validation_datagen.flow_from_directory(VALIDATION_DIR,\n",
        "                                                              batch_size=30,\n",
        "                                                              class_mode='binary',\n",
        "                                                              target_size=(256, 256))"
      ],
      "execution_count": 12,
      "outputs": [
        {
          "output_type": "stream",
          "name": "stdout",
          "text": [
            "Found 703 images belonging to 7 classes.\n"
          ]
        }
      ]
    },
    {
      "cell_type": "code",
      "metadata": {
        "id": "Xajynrg2C6uV"
      },
      "source": [
        "model = tf.keras.models.Sequential([\n",
        "    tf.keras.layers.Conv2D(16, (3, 3), activation='relu', input_shape=(256, 256, 3)),\n",
        "    tf.keras.layers.MaxPooling2D(2, 2),\n",
        "    tf.keras.layers.Dropout(.5, input_shape=(256,)),\n",
        "    tf.keras.layers.Conv2D(32, (3, 3), activation='relu'),\n",
        "    tf.keras.layers.MaxPooling2D(2, 2),\n",
        "    tf.keras.layers.Dropout(.5, input_shape=(256,)),\n",
        "    tf.keras.layers.Conv2D(64, (3, 3), activation='relu'),\n",
        "    tf.keras.layers.MaxPooling2D(2, 2),\n",
        "    tf.keras.layers.Dropout(.5, input_shape=(256,)), \n",
        "    tf.keras.layers.Flatten(),\n",
        "    tf.keras.layers.Dense(512, activation='relu'),\n",
        "    tf.keras.layers.Dense(8, activation='softmax')])"
      ],
      "execution_count": 13,
      "outputs": []
    },
    {
      "cell_type": "code",
      "metadata": {
        "id": "a_Pwxm5g8I_M"
      },
      "source": [
        "model.compile(optimizer='adam', loss='sparse_categorical_crossentropy', metrics=['accuracy'])"
      ],
      "execution_count": 14,
      "outputs": []
    },
    {
      "cell_type": "code",
      "metadata": {
        "colab": {
          "base_uri": "https://localhost:8080/"
        },
        "id": "Tgm9zwu58Pzn",
        "outputId": "47c75474-de2d-44ff-996d-2b05042b61bd"
      },
      "source": [
        "model.summary()\n",
        "history = model.fit_generator(train_generator,\n",
        "                              epochs=250,\n",
        "                              verbose=1,\n",
        "                              validation_data=validation_generator)"
      ],
      "execution_count": 15,
      "outputs": [
        {
          "output_type": "stream",
          "name": "stdout",
          "text": [
            "Model: \"sequential\"\n",
            "_________________________________________________________________\n",
            " Layer (type)                Output Shape              Param #   \n",
            "=================================================================\n",
            " conv2d (Conv2D)             (None, 254, 254, 16)      448       \n",
            "                                                                 \n",
            " max_pooling2d (MaxPooling2D  (None, 127, 127, 16)     0         \n",
            " )                                                               \n",
            "                                                                 \n",
            " dropout (Dropout)           (None, 127, 127, 16)      0         \n",
            "                                                                 \n",
            " conv2d_1 (Conv2D)           (None, 125, 125, 32)      4640      \n",
            "                                                                 \n",
            " max_pooling2d_1 (MaxPooling  (None, 62, 62, 32)       0         \n",
            " 2D)                                                             \n",
            "                                                                 \n",
            " dropout_1 (Dropout)         (None, 62, 62, 32)        0         \n",
            "                                                                 \n",
            " conv2d_2 (Conv2D)           (None, 60, 60, 64)        18496     \n",
            "                                                                 \n",
            " max_pooling2d_2 (MaxPooling  (None, 30, 30, 64)       0         \n",
            " 2D)                                                             \n",
            "                                                                 \n",
            " dropout_2 (Dropout)         (None, 30, 30, 64)        0         \n",
            "                                                                 \n",
            " flatten (Flatten)           (None, 57600)             0         \n",
            "                                                                 \n",
            " dense (Dense)               (None, 512)               29491712  \n",
            "                                                                 \n",
            " dense_1 (Dense)             (None, 8)                 4104      \n",
            "                                                                 \n",
            "=================================================================\n",
            "Total params: 29,519,400\n",
            "Trainable params: 29,519,400\n",
            "Non-trainable params: 0\n",
            "_________________________________________________________________\n"
          ]
        },
        {
          "output_type": "stream",
          "name": "stderr",
          "text": [
            "/usr/local/lib/python3.7/dist-packages/ipykernel_launcher.py:5: UserWarning: `Model.fit_generator` is deprecated and will be removed in a future version. Please use `Model.fit`, which supports generators.\n",
            "  \"\"\"\n"
          ]
        },
        {
          "output_type": "stream",
          "name": "stdout",
          "text": [
            "Epoch 1/250\n",
            "WARNING:tensorflow:AutoGraph could not transform <function Model.make_train_function.<locals>.train_function at 0x7fa745ec0b90> and will run it as-is.\n",
            "Please report this to the TensorFlow team. When filing the bug, set the verbosity to 10 (on Linux, `export AUTOGRAPH_VERBOSITY=10`) and attach the full output.\n",
            "Cause: closure mismatch, requested ('self', 'step_function'), but source function had ()\n",
            "To silence this warning, decorate the function with @tf.autograph.experimental.do_not_convert\n",
            "WARNING: AutoGraph could not transform <function Model.make_train_function.<locals>.train_function at 0x7fa745ec0b90> and will run it as-is.\n",
            "Please report this to the TensorFlow team. When filing the bug, set the verbosity to 10 (on Linux, `export AUTOGRAPH_VERBOSITY=10`) and attach the full output.\n",
            "Cause: closure mismatch, requested ('self', 'step_function'), but source function had ()\n",
            "To silence this warning, decorate the function with @tf.autograph.experimental.do_not_convert\n",
            "24/24 [==============================] - ETA: 0s - loss: 4.2604 - accuracy: 0.1571 WARNING:tensorflow:AutoGraph could not transform <function Model.make_test_function.<locals>.test_function at 0x7fa790ee4cb0> and will run it as-is.\n",
            "Please report this to the TensorFlow team. When filing the bug, set the verbosity to 10 (on Linux, `export AUTOGRAPH_VERBOSITY=10`) and attach the full output.\n",
            "Cause: closure mismatch, requested ('self', 'step_function'), but source function had ()\n",
            "To silence this warning, decorate the function with @tf.autograph.experimental.do_not_convert\n",
            "WARNING: AutoGraph could not transform <function Model.make_test_function.<locals>.test_function at 0x7fa790ee4cb0> and will run it as-is.\n",
            "Please report this to the TensorFlow team. When filing the bug, set the verbosity to 10 (on Linux, `export AUTOGRAPH_VERBOSITY=10`) and attach the full output.\n",
            "Cause: closure mismatch, requested ('self', 'step_function'), but source function had ()\n",
            "To silence this warning, decorate the function with @tf.autograph.experimental.do_not_convert\n",
            "24/24 [==============================] - 497s 21s/step - loss: 4.2604 - accuracy: 0.1571 - val_loss: 2.0752 - val_accuracy: 0.1422\n",
            "Epoch 2/250\n",
            "24/24 [==============================] - 27s 1s/step - loss: 2.0560 - accuracy: 0.1371 - val_loss: 2.0565 - val_accuracy: 0.1451\n",
            "Epoch 3/250\n",
            "24/24 [==============================] - 27s 1s/step - loss: 1.9937 - accuracy: 0.1500 - val_loss: 1.9756 - val_accuracy: 0.2048\n",
            "Epoch 4/250\n",
            "24/24 [==============================] - 28s 1s/step - loss: 1.9035 - accuracy: 0.1886 - val_loss: 1.8915 - val_accuracy: 0.2845\n",
            "Epoch 5/250\n",
            "24/24 [==============================] - 27s 1s/step - loss: 1.5824 - accuracy: 0.3700 - val_loss: 1.4094 - val_accuracy: 0.4225\n",
            "Epoch 6/250\n",
            "24/24 [==============================] - 27s 1s/step - loss: 1.0294 - accuracy: 0.5814 - val_loss: 0.9942 - val_accuracy: 0.6145\n",
            "Epoch 7/250\n",
            "24/24 [==============================] - 28s 1s/step - loss: 0.8233 - accuracy: 0.6343 - val_loss: 0.9533 - val_accuracy: 0.5903\n",
            "Epoch 8/250\n",
            "24/24 [==============================] - 28s 1s/step - loss: 0.7355 - accuracy: 0.7000 - val_loss: 1.1214 - val_accuracy: 0.5121\n",
            "Epoch 9/250\n",
            "24/24 [==============================] - 27s 1s/step - loss: 0.5752 - accuracy: 0.7357 - val_loss: 0.7202 - val_accuracy: 0.6814\n",
            "Epoch 10/250\n",
            "24/24 [==============================] - 27s 1s/step - loss: 0.5421 - accuracy: 0.7529 - val_loss: 0.9588 - val_accuracy: 0.5690\n",
            "Epoch 11/250\n",
            "24/24 [==============================] - 27s 1s/step - loss: 0.4548 - accuracy: 0.7800 - val_loss: 0.9102 - val_accuracy: 0.6273\n",
            "Epoch 12/250\n",
            "24/24 [==============================] - 27s 1s/step - loss: 0.5346 - accuracy: 0.7586 - val_loss: 1.4118 - val_accuracy: 0.5192\n",
            "Epoch 13/250\n",
            "24/24 [==============================] - 28s 1s/step - loss: 0.5320 - accuracy: 0.7643 - val_loss: 0.5643 - val_accuracy: 0.8009\n",
            "Epoch 14/250\n",
            "24/24 [==============================] - 27s 1s/step - loss: 0.4059 - accuracy: 0.8186 - val_loss: 0.6512 - val_accuracy: 0.7212\n",
            "Epoch 15/250\n",
            "24/24 [==============================] - 27s 1s/step - loss: 0.2883 - accuracy: 0.8857 - val_loss: 0.5990 - val_accuracy: 0.7041\n",
            "Epoch 16/250\n",
            "24/24 [==============================] - 27s 1s/step - loss: 0.2620 - accuracy: 0.8943 - val_loss: 0.6406 - val_accuracy: 0.7553\n",
            "Epoch 17/250\n",
            "24/24 [==============================] - 28s 1s/step - loss: 0.2097 - accuracy: 0.9271 - val_loss: 1.1822 - val_accuracy: 0.5804\n",
            "Epoch 18/250\n",
            "24/24 [==============================] - 27s 1s/step - loss: 0.1445 - accuracy: 0.9600 - val_loss: 0.4949 - val_accuracy: 0.8122\n",
            "Epoch 19/250\n",
            "24/24 [==============================] - 27s 1s/step - loss: 0.0904 - accuracy: 0.9729 - val_loss: 0.4720 - val_accuracy: 0.8137\n",
            "Epoch 20/250\n",
            "24/24 [==============================] - 27s 1s/step - loss: 0.0498 - accuracy: 0.9843 - val_loss: 0.4396 - val_accuracy: 0.8634\n",
            "Epoch 21/250\n",
            "24/24 [==============================] - 28s 1s/step - loss: 0.0287 - accuracy: 0.9929 - val_loss: 0.2505 - val_accuracy: 0.9175\n",
            "Epoch 22/250\n",
            "24/24 [==============================] - 27s 1s/step - loss: 0.0744 - accuracy: 0.9814 - val_loss: 0.6008 - val_accuracy: 0.7425\n",
            "Epoch 23/250\n",
            "24/24 [==============================] - 27s 1s/step - loss: 0.0442 - accuracy: 0.9886 - val_loss: 0.2012 - val_accuracy: 0.9459\n",
            "Epoch 24/250\n",
            "24/24 [==============================] - 27s 1s/step - loss: 0.0285 - accuracy: 0.9914 - val_loss: 0.2380 - val_accuracy: 0.9161\n",
            "Epoch 25/250\n",
            "24/24 [==============================] - 27s 1s/step - loss: 0.0328 - accuracy: 0.9929 - val_loss: 0.3485 - val_accuracy: 0.8791\n",
            "Epoch 26/250\n",
            "24/24 [==============================] - 28s 1s/step - loss: 0.1473 - accuracy: 0.9571 - val_loss: 0.2695 - val_accuracy: 0.9104\n",
            "Epoch 27/250\n",
            "24/24 [==============================] - 27s 1s/step - loss: 0.1535 - accuracy: 0.9357 - val_loss: 0.4595 - val_accuracy: 0.8336\n",
            "Epoch 28/250\n",
            "24/24 [==============================] - 27s 1s/step - loss: 0.0224 - accuracy: 0.9957 - val_loss: 0.2024 - val_accuracy: 0.9445\n",
            "Epoch 29/250\n",
            "24/24 [==============================] - 27s 1s/step - loss: 0.0079 - accuracy: 1.0000 - val_loss: 0.2585 - val_accuracy: 0.9175\n",
            "Epoch 30/250\n",
            "24/24 [==============================] - 28s 1s/step - loss: 0.0055 - accuracy: 1.0000 - val_loss: 0.2355 - val_accuracy: 0.9331\n",
            "Epoch 31/250\n",
            "24/24 [==============================] - 27s 1s/step - loss: 0.0196 - accuracy: 0.9943 - val_loss: 0.2400 - val_accuracy: 0.9132\n",
            "Epoch 32/250\n",
            "24/24 [==============================] - 27s 1s/step - loss: 0.0502 - accuracy: 0.9814 - val_loss: 0.7178 - val_accuracy: 0.7269\n",
            "Epoch 33/250\n",
            "24/24 [==============================] - 27s 1s/step - loss: 0.0581 - accuracy: 0.9800 - val_loss: 0.5715 - val_accuracy: 0.7710\n",
            "Epoch 34/250\n",
            "24/24 [==============================] - 27s 1s/step - loss: 0.0155 - accuracy: 0.9943 - val_loss: 0.2106 - val_accuracy: 0.9331\n",
            "Epoch 35/250\n",
            "24/24 [==============================] - 28s 1s/step - loss: 0.0146 - accuracy: 0.9929 - val_loss: 0.3054 - val_accuracy: 0.9075\n",
            "Epoch 36/250\n",
            "24/24 [==============================] - 27s 1s/step - loss: 0.0131 - accuracy: 0.9943 - val_loss: 0.1116 - val_accuracy: 0.9716\n",
            "Epoch 37/250\n",
            "24/24 [==============================] - 27s 1s/step - loss: 0.0036 - accuracy: 1.0000 - val_loss: 0.1235 - val_accuracy: 0.9659\n",
            "Epoch 38/250\n",
            "24/24 [==============================] - 27s 1s/step - loss: 0.0017 - accuracy: 1.0000 - val_loss: 0.1095 - val_accuracy: 0.9616\n",
            "Epoch 39/250\n",
            "24/24 [==============================] - 28s 1s/step - loss: 0.0017 - accuracy: 1.0000 - val_loss: 0.1449 - val_accuracy: 0.9531\n",
            "Epoch 40/250\n",
            "24/24 [==============================] - 27s 1s/step - loss: 0.0015 - accuracy: 1.0000 - val_loss: 0.0617 - val_accuracy: 0.9858\n",
            "Epoch 41/250\n",
            "24/24 [==============================] - 27s 1s/step - loss: 7.2870e-04 - accuracy: 1.0000 - val_loss: 0.1451 - val_accuracy: 0.9573\n",
            "Epoch 42/250\n",
            "24/24 [==============================] - 27s 1s/step - loss: 0.0031 - accuracy: 1.0000 - val_loss: 0.0999 - val_accuracy: 0.9730\n",
            "Epoch 43/250\n",
            "24/24 [==============================] - 28s 1s/step - loss: 0.0050 - accuracy: 0.9986 - val_loss: 0.3201 - val_accuracy: 0.8649\n",
            "Epoch 44/250\n",
            "24/24 [==============================] - 27s 1s/step - loss: 0.0036 - accuracy: 0.9986 - val_loss: 0.1146 - val_accuracy: 0.9673\n",
            "Epoch 45/250\n",
            "24/24 [==============================] - 27s 1s/step - loss: 9.4657e-04 - accuracy: 1.0000 - val_loss: 0.0978 - val_accuracy: 0.9716\n",
            "Epoch 46/250\n",
            "24/24 [==============================] - 27s 1s/step - loss: 3.0126e-04 - accuracy: 1.0000 - val_loss: 0.0673 - val_accuracy: 0.9787\n",
            "Epoch 47/250\n",
            "24/24 [==============================] - 27s 1s/step - loss: 5.6907e-04 - accuracy: 1.0000 - val_loss: 0.0728 - val_accuracy: 0.9772\n",
            "Epoch 48/250\n",
            "24/24 [==============================] - 28s 1s/step - loss: 4.0664e-04 - accuracy: 1.0000 - val_loss: 0.0979 - val_accuracy: 0.9701\n",
            "Epoch 49/250\n",
            "24/24 [==============================] - 27s 1s/step - loss: 8.6787e-04 - accuracy: 1.0000 - val_loss: 0.0951 - val_accuracy: 0.9716\n",
            "Epoch 50/250\n",
            "24/24 [==============================] - 27s 1s/step - loss: 0.0011 - accuracy: 1.0000 - val_loss: 0.0862 - val_accuracy: 0.9701\n",
            "Epoch 51/250\n",
            "24/24 [==============================] - 27s 1s/step - loss: 7.9648e-04 - accuracy: 1.0000 - val_loss: 0.1218 - val_accuracy: 0.9616\n",
            "Epoch 52/250\n",
            "24/24 [==============================] - 28s 1s/step - loss: 0.0018 - accuracy: 1.0000 - val_loss: 0.1566 - val_accuracy: 0.9531\n",
            "Epoch 53/250\n",
            "24/24 [==============================] - 27s 1s/step - loss: 0.0014 - accuracy: 1.0000 - val_loss: 0.1550 - val_accuracy: 0.9602\n",
            "Epoch 54/250\n",
            "24/24 [==============================] - 27s 1s/step - loss: 4.1871e-04 - accuracy: 1.0000 - val_loss: 0.0703 - val_accuracy: 0.9744\n",
            "Epoch 55/250\n",
            "24/24 [==============================] - 27s 1s/step - loss: 0.0015 - accuracy: 1.0000 - val_loss: 0.0596 - val_accuracy: 0.9801\n",
            "Epoch 56/250\n",
            "24/24 [==============================] - 28s 1s/step - loss: 0.0020 - accuracy: 1.0000 - val_loss: 0.2615 - val_accuracy: 0.9018\n",
            "Epoch 57/250\n",
            "24/24 [==============================] - 27s 1s/step - loss: 0.0036 - accuracy: 0.9986 - val_loss: 0.1911 - val_accuracy: 0.9587\n",
            "Epoch 58/250\n",
            "24/24 [==============================] - 27s 1s/step - loss: 0.0017 - accuracy: 1.0000 - val_loss: 0.1118 - val_accuracy: 0.9616\n",
            "Epoch 59/250\n",
            "24/24 [==============================] - 27s 1s/step - loss: 0.0021 - accuracy: 1.0000 - val_loss: 0.2417 - val_accuracy: 0.9246\n",
            "Epoch 60/250\n",
            "24/24 [==============================] - 28s 1s/step - loss: 4.1817e-04 - accuracy: 1.0000 - val_loss: 0.0924 - val_accuracy: 0.9744\n",
            "Epoch 61/250\n",
            "24/24 [==============================] - 29s 1s/step - loss: 4.9895e-04 - accuracy: 1.0000 - val_loss: 0.0470 - val_accuracy: 0.9858\n",
            "Epoch 62/250\n",
            "24/24 [==============================] - 29s 1s/step - loss: 5.0476e-04 - accuracy: 1.0000 - val_loss: 0.1051 - val_accuracy: 0.9673\n",
            "Epoch 63/250\n",
            "24/24 [==============================] - 30s 1s/step - loss: 1.3379e-04 - accuracy: 1.0000 - val_loss: 0.0743 - val_accuracy: 0.9787\n",
            "Epoch 64/250\n",
            "24/24 [==============================] - 33s 1s/step - loss: 3.4114e-04 - accuracy: 1.0000 - val_loss: 0.0750 - val_accuracy: 0.9730\n",
            "Epoch 65/250\n",
            "24/24 [==============================] - 33s 1s/step - loss: 4.5210e-04 - accuracy: 1.0000 - val_loss: 0.0860 - val_accuracy: 0.9758\n",
            "Epoch 66/250\n",
            "24/24 [==============================] - 33s 1s/step - loss: 2.2192e-04 - accuracy: 1.0000 - val_loss: 0.0972 - val_accuracy: 0.9673\n",
            "Epoch 67/250\n",
            "24/24 [==============================] - 33s 1s/step - loss: 1.9621e-04 - accuracy: 1.0000 - val_loss: 0.0752 - val_accuracy: 0.9801\n",
            "Epoch 68/250\n",
            "24/24 [==============================] - 34s 1s/step - loss: 6.7374e-05 - accuracy: 1.0000 - val_loss: 0.0934 - val_accuracy: 0.9744\n",
            "Epoch 69/250\n",
            "24/24 [==============================] - 33s 1s/step - loss: 1.3987e-04 - accuracy: 1.0000 - val_loss: 0.1087 - val_accuracy: 0.9687\n",
            "Epoch 70/250\n",
            "24/24 [==============================] - 30s 1s/step - loss: 1.4632e-04 - accuracy: 1.0000 - val_loss: 0.1406 - val_accuracy: 0.9616\n",
            "Epoch 71/250\n",
            "24/24 [==============================] - 33s 1s/step - loss: 1.5520e-04 - accuracy: 1.0000 - val_loss: 0.1348 - val_accuracy: 0.9602\n",
            "Epoch 72/250\n",
            "24/24 [==============================] - 33s 1s/step - loss: 2.4112e-04 - accuracy: 1.0000 - val_loss: 0.1507 - val_accuracy: 0.9630\n",
            "Epoch 73/250\n",
            "24/24 [==============================] - 33s 1s/step - loss: 1.6450e-04 - accuracy: 1.0000 - val_loss: 0.0792 - val_accuracy: 0.9716\n",
            "Epoch 74/250\n",
            "24/24 [==============================] - 34s 1s/step - loss: 0.0014 - accuracy: 1.0000 - val_loss: 0.2304 - val_accuracy: 0.9431\n",
            "Epoch 75/250\n",
            "24/24 [==============================] - 33s 1s/step - loss: 8.4676e-04 - accuracy: 1.0000 - val_loss: 0.2462 - val_accuracy: 0.9047\n",
            "Epoch 76/250\n",
            "24/24 [==============================] - 33s 1s/step - loss: 0.0015 - accuracy: 1.0000 - val_loss: 0.1104 - val_accuracy: 0.9701\n",
            "Epoch 77/250\n",
            "24/24 [==============================] - 33s 1s/step - loss: 0.0013 - accuracy: 1.0000 - val_loss: 0.1071 - val_accuracy: 0.9673\n",
            "Epoch 78/250\n",
            "24/24 [==============================] - 34s 1s/step - loss: 2.4159e-04 - accuracy: 1.0000 - val_loss: 0.0867 - val_accuracy: 0.9772\n",
            "Epoch 79/250\n",
            "24/24 [==============================] - 33s 1s/step - loss: 3.6204e-04 - accuracy: 1.0000 - val_loss: 0.0919 - val_accuracy: 0.9673\n",
            "Epoch 80/250\n",
            "24/24 [==============================] - 33s 1s/step - loss: 8.2664e-05 - accuracy: 1.0000 - val_loss: 0.0537 - val_accuracy: 0.9787\n",
            "Epoch 81/250\n",
            "24/24 [==============================] - 35s 1s/step - loss: 3.6286e-04 - accuracy: 1.0000 - val_loss: 0.1734 - val_accuracy: 0.9488\n",
            "Epoch 82/250\n",
            "24/24 [==============================] - 33s 1s/step - loss: 0.0873 - accuracy: 0.9829 - val_loss: 0.4900 - val_accuracy: 0.8777\n",
            "Epoch 83/250\n",
            "24/24 [==============================] - 33s 1s/step - loss: 0.5481 - accuracy: 0.8300 - val_loss: 0.3694 - val_accuracy: 0.9303\n",
            "Epoch 84/250\n",
            "24/24 [==============================] - 33s 1s/step - loss: 0.0942 - accuracy: 0.9757 - val_loss: 0.2370 - val_accuracy: 0.9104\n",
            "Epoch 85/250\n",
            "24/24 [==============================] - 34s 1s/step - loss: 0.0157 - accuracy: 0.9986 - val_loss: 0.1256 - val_accuracy: 0.9659\n",
            "Epoch 86/250\n",
            "24/24 [==============================] - 33s 1s/step - loss: 0.0096 - accuracy: 0.9957 - val_loss: 0.0848 - val_accuracy: 0.9730\n",
            "Epoch 87/250\n",
            "24/24 [==============================] - 33s 1s/step - loss: 0.0034 - accuracy: 1.0000 - val_loss: 0.0631 - val_accuracy: 0.9844\n",
            "Epoch 88/250\n",
            "24/24 [==============================] - 34s 1s/step - loss: 0.0151 - accuracy: 0.9929 - val_loss: 0.0635 - val_accuracy: 0.9815\n",
            "Epoch 89/250\n",
            "24/24 [==============================] - 33s 1s/step - loss: 0.0023 - accuracy: 1.0000 - val_loss: 0.0497 - val_accuracy: 0.9872\n",
            "Epoch 90/250\n",
            "24/24 [==============================] - 33s 1s/step - loss: 0.0030 - accuracy: 0.9986 - val_loss: 0.0554 - val_accuracy: 0.9844\n",
            "Epoch 91/250\n",
            "24/24 [==============================] - 34s 1s/step - loss: 0.0066 - accuracy: 0.9986 - val_loss: 0.0527 - val_accuracy: 0.9844\n",
            "Epoch 92/250\n",
            "24/24 [==============================] - 33s 1s/step - loss: 0.0033 - accuracy: 1.0000 - val_loss: 0.0937 - val_accuracy: 0.9687\n",
            "Epoch 93/250\n",
            "24/24 [==============================] - 33s 1s/step - loss: 8.6235e-04 - accuracy: 1.0000 - val_loss: 0.0431 - val_accuracy: 0.9886\n",
            "Epoch 94/250\n",
            "24/24 [==============================] - 33s 1s/step - loss: 0.0010 - accuracy: 1.0000 - val_loss: 0.0563 - val_accuracy: 0.9886\n",
            "Epoch 95/250\n",
            "24/24 [==============================] - 34s 1s/step - loss: 9.0544e-04 - accuracy: 1.0000 - val_loss: 0.0291 - val_accuracy: 0.9943\n",
            "Epoch 96/250\n",
            "24/24 [==============================] - 33s 1s/step - loss: 2.5323e-04 - accuracy: 1.0000 - val_loss: 0.0682 - val_accuracy: 0.9787\n",
            "Epoch 97/250\n",
            "24/24 [==============================] - 33s 1s/step - loss: 9.6918e-04 - accuracy: 1.0000 - val_loss: 0.0219 - val_accuracy: 0.9943\n",
            "Epoch 98/250\n",
            "24/24 [==============================] - 34s 1s/step - loss: 0.0016 - accuracy: 1.0000 - val_loss: 0.0537 - val_accuracy: 0.9858\n",
            "Epoch 99/250\n",
            "24/24 [==============================] - 33s 1s/step - loss: 0.0010 - accuracy: 1.0000 - val_loss: 0.0713 - val_accuracy: 0.9744\n",
            "Epoch 100/250\n",
            "24/24 [==============================] - 33s 1s/step - loss: 7.1472e-04 - accuracy: 1.0000 - val_loss: 0.0319 - val_accuracy: 0.9929\n",
            "Epoch 101/250\n",
            "24/24 [==============================] - 33s 1s/step - loss: 3.1009e-04 - accuracy: 1.0000 - val_loss: 0.0225 - val_accuracy: 0.9943\n",
            "Epoch 102/250\n",
            "24/24 [==============================] - 34s 1s/step - loss: 9.6322e-04 - accuracy: 1.0000 - val_loss: 0.0741 - val_accuracy: 0.9858\n",
            "Epoch 103/250\n",
            "24/24 [==============================] - 33s 1s/step - loss: 0.0066 - accuracy: 0.9957 - val_loss: 0.0713 - val_accuracy: 0.9772\n",
            "Epoch 104/250\n",
            "24/24 [==============================] - 33s 1s/step - loss: 0.0051 - accuracy: 1.0000 - val_loss: 0.0308 - val_accuracy: 0.9900\n",
            "Epoch 105/250\n",
            "24/24 [==============================] - 34s 1s/step - loss: 0.0076 - accuracy: 0.9957 - val_loss: 0.3036 - val_accuracy: 0.8834\n",
            "Epoch 106/250\n",
            "24/24 [==============================] - 33s 1s/step - loss: 0.3755 - accuracy: 0.9100 - val_loss: 0.6840 - val_accuracy: 0.7312\n",
            "Epoch 107/250\n",
            "24/24 [==============================] - 33s 1s/step - loss: 0.0931 - accuracy: 0.9700 - val_loss: 0.2496 - val_accuracy: 0.9118\n",
            "Epoch 108/250\n",
            "24/24 [==============================] - 34s 1s/step - loss: 0.0250 - accuracy: 0.9929 - val_loss: 0.0696 - val_accuracy: 0.9872\n",
            "Epoch 109/250\n",
            "24/24 [==============================] - 33s 1s/step - loss: 0.0044 - accuracy: 1.0000 - val_loss: 0.0801 - val_accuracy: 0.9787\n",
            "Epoch 110/250\n",
            "24/24 [==============================] - 33s 1s/step - loss: 0.0028 - accuracy: 1.0000 - val_loss: 0.0339 - val_accuracy: 0.9915\n",
            "Epoch 111/250\n",
            "24/24 [==============================] - 33s 1s/step - loss: 0.0019 - accuracy: 1.0000 - val_loss: 0.0390 - val_accuracy: 0.9929\n",
            "Epoch 112/250\n",
            "24/24 [==============================] - 34s 1s/step - loss: 4.2986e-04 - accuracy: 1.0000 - val_loss: 0.0551 - val_accuracy: 0.9886\n",
            "Epoch 113/250\n",
            "24/24 [==============================] - 33s 1s/step - loss: 4.0947e-04 - accuracy: 1.0000 - val_loss: 0.0330 - val_accuracy: 0.9957\n",
            "Epoch 114/250\n",
            "24/24 [==============================] - 33s 1s/step - loss: 3.0772e-04 - accuracy: 1.0000 - val_loss: 0.0471 - val_accuracy: 0.9886\n",
            "Epoch 115/250\n",
            "24/24 [==============================] - 34s 1s/step - loss: 3.2552e-04 - accuracy: 1.0000 - val_loss: 0.0197 - val_accuracy: 0.9972\n",
            "Epoch 116/250\n",
            "24/24 [==============================] - 33s 1s/step - loss: 2.7887e-04 - accuracy: 1.0000 - val_loss: 0.0230 - val_accuracy: 0.9972\n",
            "Epoch 117/250\n",
            "24/24 [==============================] - 33s 1s/step - loss: 3.9378e-04 - accuracy: 1.0000 - val_loss: 0.0330 - val_accuracy: 0.9929\n",
            "Epoch 118/250\n",
            "24/24 [==============================] - 34s 1s/step - loss: 3.7472e-04 - accuracy: 1.0000 - val_loss: 0.0301 - val_accuracy: 0.9957\n",
            "Epoch 119/250\n",
            "24/24 [==============================] - 33s 1s/step - loss: 2.2550e-04 - accuracy: 1.0000 - val_loss: 0.0237 - val_accuracy: 0.9943\n",
            "Epoch 120/250\n",
            "24/24 [==============================] - 33s 1s/step - loss: 1.5517e-04 - accuracy: 1.0000 - val_loss: 0.0402 - val_accuracy: 0.9929\n",
            "Epoch 121/250\n",
            "24/24 [==============================] - 33s 1s/step - loss: 2.2840e-04 - accuracy: 1.0000 - val_loss: 0.0261 - val_accuracy: 0.9957\n",
            "Epoch 122/250\n",
            "24/24 [==============================] - 34s 1s/step - loss: 2.6195e-04 - accuracy: 1.0000 - val_loss: 0.0357 - val_accuracy: 0.9957\n",
            "Epoch 123/250\n",
            "24/24 [==============================] - 33s 1s/step - loss: 1.6271e-04 - accuracy: 1.0000 - val_loss: 0.0274 - val_accuracy: 0.9929\n",
            "Epoch 124/250\n",
            "24/24 [==============================] - 33s 1s/step - loss: 3.5899e-04 - accuracy: 1.0000 - val_loss: 0.0266 - val_accuracy: 0.9957\n",
            "Epoch 125/250\n",
            "24/24 [==============================] - 34s 1s/step - loss: 1.6953e-04 - accuracy: 1.0000 - val_loss: 0.0305 - val_accuracy: 0.9943\n",
            "Epoch 126/250\n",
            "24/24 [==============================] - 33s 1s/step - loss: 1.2018e-04 - accuracy: 1.0000 - val_loss: 0.0339 - val_accuracy: 0.9929\n",
            "Epoch 127/250\n",
            "24/24 [==============================] - 33s 1s/step - loss: 9.5085e-05 - accuracy: 1.0000 - val_loss: 0.0308 - val_accuracy: 0.9943\n",
            "Epoch 128/250\n",
            "24/24 [==============================] - 34s 1s/step - loss: 1.2675e-04 - accuracy: 1.0000 - val_loss: 0.0283 - val_accuracy: 0.9943\n",
            "Epoch 129/250\n",
            "24/24 [==============================] - 33s 1s/step - loss: 1.3106e-04 - accuracy: 1.0000 - val_loss: 0.0317 - val_accuracy: 0.9915\n",
            "Epoch 130/250\n",
            "24/24 [==============================] - 33s 1s/step - loss: 1.5293e-04 - accuracy: 1.0000 - val_loss: 0.0374 - val_accuracy: 0.9915\n",
            "Epoch 131/250\n",
            "24/24 [==============================] - 33s 1s/step - loss: 3.0055e-04 - accuracy: 1.0000 - val_loss: 0.0380 - val_accuracy: 0.9929\n",
            "Epoch 132/250\n",
            "24/24 [==============================] - 34s 1s/step - loss: 1.8778e-04 - accuracy: 1.0000 - val_loss: 0.0132 - val_accuracy: 0.9972\n",
            "Epoch 133/250\n",
            "24/24 [==============================] - 33s 1s/step - loss: 1.8168e-04 - accuracy: 1.0000 - val_loss: 0.0367 - val_accuracy: 0.9929\n",
            "Epoch 134/250\n",
            "24/24 [==============================] - 33s 1s/step - loss: 2.3222e-04 - accuracy: 1.0000 - val_loss: 0.0469 - val_accuracy: 0.9900\n",
            "Epoch 135/250\n",
            "24/24 [==============================] - 34s 1s/step - loss: 7.7990e-05 - accuracy: 1.0000 - val_loss: 0.0275 - val_accuracy: 0.9943\n",
            "Epoch 136/250\n",
            "24/24 [==============================] - 33s 1s/step - loss: 1.5086e-04 - accuracy: 1.0000 - val_loss: 0.0333 - val_accuracy: 0.9900\n",
            "Epoch 137/250\n",
            "24/24 [==============================] - 33s 1s/step - loss: 1.1482e-04 - accuracy: 1.0000 - val_loss: 0.0330 - val_accuracy: 0.9915\n",
            "Epoch 138/250\n",
            "24/24 [==============================] - 33s 1s/step - loss: 1.0187e-04 - accuracy: 1.0000 - val_loss: 0.0147 - val_accuracy: 0.9972\n",
            "Epoch 139/250\n",
            "24/24 [==============================] - 34s 1s/step - loss: 5.7544e-05 - accuracy: 1.0000 - val_loss: 0.0462 - val_accuracy: 0.9886\n",
            "Epoch 140/250\n",
            "24/24 [==============================] - 33s 1s/step - loss: 3.8289e-04 - accuracy: 1.0000 - val_loss: 0.0465 - val_accuracy: 0.9886\n",
            "Epoch 141/250\n",
            "24/24 [==============================] - 33s 1s/step - loss: 1.5049e-04 - accuracy: 1.0000 - val_loss: 0.0189 - val_accuracy: 0.9972\n",
            "Epoch 142/250\n",
            "24/24 [==============================] - 34s 1s/step - loss: 8.3672e-05 - accuracy: 1.0000 - val_loss: 0.0200 - val_accuracy: 0.9972\n",
            "Epoch 143/250\n",
            "24/24 [==============================] - 33s 1s/step - loss: 6.1468e-05 - accuracy: 1.0000 - val_loss: 0.0325 - val_accuracy: 0.9929\n",
            "Epoch 144/250\n",
            "24/24 [==============================] - 33s 1s/step - loss: 6.1963e-05 - accuracy: 1.0000 - val_loss: 0.0312 - val_accuracy: 0.9943\n",
            "Epoch 145/250\n",
            "24/24 [==============================] - 34s 1s/step - loss: 5.8440e-05 - accuracy: 1.0000 - val_loss: 0.0326 - val_accuracy: 0.9900\n",
            "Epoch 146/250\n",
            "24/24 [==============================] - 33s 1s/step - loss: 5.4701e-05 - accuracy: 1.0000 - val_loss: 0.0175 - val_accuracy: 0.9957\n",
            "Epoch 147/250\n",
            "24/24 [==============================] - 33s 1s/step - loss: 4.7480e-05 - accuracy: 1.0000 - val_loss: 0.0303 - val_accuracy: 0.9943\n",
            "Epoch 148/250\n",
            "24/24 [==============================] - 33s 1s/step - loss: 7.2264e-05 - accuracy: 1.0000 - val_loss: 0.0324 - val_accuracy: 0.9929\n",
            "Epoch 149/250\n",
            "24/24 [==============================] - 34s 1s/step - loss: 6.2938e-05 - accuracy: 1.0000 - val_loss: 0.0177 - val_accuracy: 0.9972\n",
            "Epoch 150/250\n",
            "24/24 [==============================] - 33s 1s/step - loss: 5.1789e-05 - accuracy: 1.0000 - val_loss: 0.0200 - val_accuracy: 0.9957\n",
            "Epoch 151/250\n",
            "24/24 [==============================] - 33s 1s/step - loss: 5.2071e-05 - accuracy: 1.0000 - val_loss: 0.0262 - val_accuracy: 0.9900\n",
            "Epoch 152/250\n",
            "24/24 [==============================] - 34s 1s/step - loss: 6.2697e-05 - accuracy: 1.0000 - val_loss: 0.0159 - val_accuracy: 0.9972\n",
            "Epoch 153/250\n",
            "24/24 [==============================] - 33s 1s/step - loss: 8.8442e-05 - accuracy: 1.0000 - val_loss: 0.0219 - val_accuracy: 0.9957\n",
            "Epoch 154/250\n",
            "24/24 [==============================] - 33s 1s/step - loss: 2.0969e-04 - accuracy: 1.0000 - val_loss: 0.0100 - val_accuracy: 0.9986\n",
            "Epoch 155/250\n",
            "24/24 [==============================] - 34s 1s/step - loss: 7.6337e-05 - accuracy: 1.0000 - val_loss: 0.0319 - val_accuracy: 0.9957\n",
            "Epoch 156/250\n",
            "24/24 [==============================] - 33s 1s/step - loss: 7.1114e-05 - accuracy: 1.0000 - val_loss: 0.0227 - val_accuracy: 0.9943\n",
            "Epoch 157/250\n",
            "24/24 [==============================] - 33s 1s/step - loss: 3.4940e-05 - accuracy: 1.0000 - val_loss: 0.0189 - val_accuracy: 0.9957\n",
            "Epoch 158/250\n",
            "24/24 [==============================] - 34s 1s/step - loss: 4.2478e-05 - accuracy: 1.0000 - val_loss: 0.0133 - val_accuracy: 0.9972\n",
            "Epoch 159/250\n",
            "24/24 [==============================] - 33s 1s/step - loss: 8.2392e-05 - accuracy: 1.0000 - val_loss: 0.0252 - val_accuracy: 0.9957\n",
            "Epoch 160/250\n",
            "24/24 [==============================] - 33s 1s/step - loss: 4.0786e-05 - accuracy: 1.0000 - val_loss: 0.0179 - val_accuracy: 0.9972\n",
            "Epoch 161/250\n",
            "24/24 [==============================] - 33s 1s/step - loss: 6.3103e-05 - accuracy: 1.0000 - val_loss: 0.0155 - val_accuracy: 0.9972\n",
            "Epoch 162/250\n",
            "24/24 [==============================] - 34s 1s/step - loss: 6.2449e-05 - accuracy: 1.0000 - val_loss: 0.0253 - val_accuracy: 0.9929\n",
            "Epoch 163/250\n",
            "24/24 [==============================] - 33s 1s/step - loss: 3.2270e-05 - accuracy: 1.0000 - val_loss: 0.0231 - val_accuracy: 0.9972\n",
            "Epoch 164/250\n",
            "24/24 [==============================] - 33s 1s/step - loss: 4.2057e-05 - accuracy: 1.0000 - val_loss: 0.0195 - val_accuracy: 0.9972\n",
            "Epoch 165/250\n",
            "24/24 [==============================] - 34s 1s/step - loss: 5.2441e-05 - accuracy: 1.0000 - val_loss: 0.0181 - val_accuracy: 0.9972\n",
            "Epoch 166/250\n",
            "24/24 [==============================] - 33s 1s/step - loss: 5.6515e-05 - accuracy: 1.0000 - val_loss: 0.0224 - val_accuracy: 0.9957\n",
            "Epoch 167/250\n",
            "24/24 [==============================] - 33s 1s/step - loss: 3.5541e-04 - accuracy: 1.0000 - val_loss: 0.0191 - val_accuracy: 0.9943\n",
            "Epoch 168/250\n",
            "24/24 [==============================] - 34s 1s/step - loss: 8.6290e-05 - accuracy: 1.0000 - val_loss: 0.0179 - val_accuracy: 0.9972\n",
            "Epoch 169/250\n",
            "24/24 [==============================] - 33s 1s/step - loss: 8.4035e-05 - accuracy: 1.0000 - val_loss: 0.0136 - val_accuracy: 0.9972\n",
            "Epoch 170/250\n",
            "24/24 [==============================] - 32s 1s/step - loss: 9.6981e-05 - accuracy: 1.0000 - val_loss: 0.0382 - val_accuracy: 0.9929\n",
            "Epoch 171/250\n",
            "24/24 [==============================] - 32s 1s/step - loss: 2.5200e-05 - accuracy: 1.0000 - val_loss: 0.0206 - val_accuracy: 0.9943\n",
            "Epoch 172/250\n",
            "24/24 [==============================] - 34s 1s/step - loss: 1.3368e-04 - accuracy: 1.0000 - val_loss: 0.0104 - val_accuracy: 0.9986\n",
            "Epoch 173/250\n",
            "24/24 [==============================] - 33s 1s/step - loss: 2.7026e-04 - accuracy: 1.0000 - val_loss: 0.0262 - val_accuracy: 0.9929\n",
            "Epoch 174/250\n",
            "24/24 [==============================] - 33s 1s/step - loss: 2.4088e-04 - accuracy: 1.0000 - val_loss: 0.0217 - val_accuracy: 0.9972\n",
            "Epoch 175/250\n",
            "24/24 [==============================] - 34s 1s/step - loss: 7.6014e-05 - accuracy: 1.0000 - val_loss: 0.0174 - val_accuracy: 0.9957\n",
            "Epoch 176/250\n",
            "24/24 [==============================] - 33s 1s/step - loss: 2.8298e-05 - accuracy: 1.0000 - val_loss: 0.0131 - val_accuracy: 0.9986\n",
            "Epoch 177/250\n",
            "24/24 [==============================] - 33s 1s/step - loss: 2.9835e-05 - accuracy: 1.0000 - val_loss: 0.0499 - val_accuracy: 0.9915\n",
            "Epoch 178/250\n",
            "24/24 [==============================] - 34s 1s/step - loss: 2.0085e-05 - accuracy: 1.0000 - val_loss: 0.0329 - val_accuracy: 0.9915\n",
            "Epoch 179/250\n",
            "24/24 [==============================] - 33s 1s/step - loss: 2.4823e-05 - accuracy: 1.0000 - val_loss: 0.0280 - val_accuracy: 0.9943\n",
            "Epoch 180/250\n",
            "24/24 [==============================] - 33s 1s/step - loss: 4.8249e-05 - accuracy: 1.0000 - val_loss: 0.0212 - val_accuracy: 0.9957\n",
            "Epoch 181/250\n",
            "24/24 [==============================] - 34s 1s/step - loss: 2.7371e-05 - accuracy: 1.0000 - val_loss: 0.0194 - val_accuracy: 0.9972\n",
            "Epoch 182/250\n",
            "24/24 [==============================] - 33s 1s/step - loss: 3.1751e-05 - accuracy: 1.0000 - val_loss: 0.0133 - val_accuracy: 0.9986\n",
            "Epoch 183/250\n",
            "24/24 [==============================] - 33s 1s/step - loss: 1.4654e-05 - accuracy: 1.0000 - val_loss: 0.0303 - val_accuracy: 0.9929\n",
            "Epoch 184/250\n",
            "24/24 [==============================] - 33s 1s/step - loss: 1.5233e-05 - accuracy: 1.0000 - val_loss: 0.0255 - val_accuracy: 0.9943\n",
            "Epoch 185/250\n",
            "24/24 [==============================] - 34s 1s/step - loss: 3.7288e-05 - accuracy: 1.0000 - val_loss: 0.0274 - val_accuracy: 0.9957\n",
            "Epoch 186/250\n",
            "24/24 [==============================] - 33s 1s/step - loss: 2.2306e-05 - accuracy: 1.0000 - val_loss: 0.0241 - val_accuracy: 0.9943\n",
            "Epoch 187/250\n",
            "24/24 [==============================] - 32s 1s/step - loss: 3.9037e-05 - accuracy: 1.0000 - val_loss: 0.0094 - val_accuracy: 0.9986\n",
            "Epoch 188/250\n",
            "24/24 [==============================] - 33s 1s/step - loss: 2.9218e-05 - accuracy: 1.0000 - val_loss: 0.0245 - val_accuracy: 0.9972\n",
            "Epoch 189/250\n",
            "24/24 [==============================] - 31s 1s/step - loss: 3.8128e-05 - accuracy: 1.0000 - val_loss: 0.0303 - val_accuracy: 0.9929\n",
            "Epoch 190/250\n",
            "24/24 [==============================] - 30s 1s/step - loss: 9.0439e-05 - accuracy: 1.0000 - val_loss: 0.0227 - val_accuracy: 0.9943\n",
            "Epoch 191/250\n",
            "24/24 [==============================] - 31s 1s/step - loss: 1.7162e-05 - accuracy: 1.0000 - val_loss: 0.0247 - val_accuracy: 0.9929\n",
            "Epoch 192/250\n",
            "24/24 [==============================] - 33s 1s/step - loss: 3.5298e-05 - accuracy: 1.0000 - val_loss: 0.0081 - val_accuracy: 0.9986\n",
            "Epoch 193/250\n",
            "24/24 [==============================] - 33s 1s/step - loss: 2.0283e-04 - accuracy: 1.0000 - val_loss: 0.0497 - val_accuracy: 0.9915\n",
            "Epoch 194/250\n",
            "24/24 [==============================] - 33s 1s/step - loss: 5.5381e-05 - accuracy: 1.0000 - val_loss: 0.0221 - val_accuracy: 0.9943\n",
            "Epoch 195/250\n",
            "24/24 [==============================] - 34s 1s/step - loss: 3.9000e-05 - accuracy: 1.0000 - val_loss: 0.0440 - val_accuracy: 0.9929\n",
            "Epoch 196/250\n",
            "24/24 [==============================] - 33s 1s/step - loss: 1.6777e-05 - accuracy: 1.0000 - val_loss: 0.0408 - val_accuracy: 0.9915\n",
            "Epoch 197/250\n",
            "24/24 [==============================] - 33s 1s/step - loss: 1.2265e-05 - accuracy: 1.0000 - val_loss: 0.0315 - val_accuracy: 0.9943\n",
            "Epoch 198/250\n",
            "24/24 [==============================] - 34s 1s/step - loss: 1.6008e-05 - accuracy: 1.0000 - val_loss: 0.0372 - val_accuracy: 0.9900\n",
            "Epoch 199/250\n",
            "24/24 [==============================] - 33s 1s/step - loss: 4.1015e-05 - accuracy: 1.0000 - val_loss: 0.0249 - val_accuracy: 0.9957\n",
            "Epoch 200/250\n",
            "24/24 [==============================] - 33s 1s/step - loss: 1.2228e-05 - accuracy: 1.0000 - val_loss: 0.0335 - val_accuracy: 0.9943\n",
            "Epoch 201/250\n",
            "24/24 [==============================] - 34s 1s/step - loss: 2.0454e-05 - accuracy: 1.0000 - val_loss: 0.0125 - val_accuracy: 0.9972\n",
            "Epoch 202/250\n",
            "24/24 [==============================] - 33s 1s/step - loss: 1.8334e-05 - accuracy: 1.0000 - val_loss: 0.0252 - val_accuracy: 0.9972\n",
            "Epoch 203/250\n",
            "24/24 [==============================] - 32s 1s/step - loss: 4.3339e-05 - accuracy: 1.0000 - val_loss: 0.0354 - val_accuracy: 0.9957\n",
            "Epoch 204/250\n",
            "24/24 [==============================] - 34s 1s/step - loss: 2.2163e-05 - accuracy: 1.0000 - val_loss: 0.0345 - val_accuracy: 0.9943\n",
            "Epoch 205/250\n",
            "24/24 [==============================] - 33s 1s/step - loss: 1.5503e-05 - accuracy: 1.0000 - val_loss: 0.0313 - val_accuracy: 0.9929\n",
            "Epoch 206/250\n",
            "24/24 [==============================] - 32s 1s/step - loss: 1.2617e-05 - accuracy: 1.0000 - val_loss: 0.0229 - val_accuracy: 0.9957\n",
            "Epoch 207/250\n",
            "24/24 [==============================] - 32s 1s/step - loss: 9.9539e-06 - accuracy: 1.0000 - val_loss: 0.0106 - val_accuracy: 0.9986\n",
            "Epoch 208/250\n",
            "24/24 [==============================] - 34s 1s/step - loss: 1.7973e-05 - accuracy: 1.0000 - val_loss: 0.0577 - val_accuracy: 0.9900\n",
            "Epoch 209/250\n",
            "24/24 [==============================] - 32s 1s/step - loss: 2.0146e-05 - accuracy: 1.0000 - val_loss: 0.0329 - val_accuracy: 0.9915\n",
            "Epoch 210/250\n",
            "24/24 [==============================] - 32s 1s/step - loss: 1.1924e-05 - accuracy: 1.0000 - val_loss: 0.0077 - val_accuracy: 1.0000\n",
            "Epoch 211/250\n",
            "24/24 [==============================] - 34s 1s/step - loss: 1.6158e-05 - accuracy: 1.0000 - val_loss: 0.0342 - val_accuracy: 0.9943\n",
            "Epoch 212/250\n",
            "24/24 [==============================] - 33s 1s/step - loss: 8.9751e-06 - accuracy: 1.0000 - val_loss: 0.0120 - val_accuracy: 0.9972\n",
            "Epoch 213/250\n",
            "24/24 [==============================] - 33s 1s/step - loss: 1.2932e-05 - accuracy: 1.0000 - val_loss: 0.0218 - val_accuracy: 0.9943\n",
            "Epoch 214/250\n",
            "24/24 [==============================] - 34s 1s/step - loss: 1.9184e-05 - accuracy: 1.0000 - val_loss: 0.0085 - val_accuracy: 0.9986\n",
            "Epoch 215/250\n",
            "24/24 [==============================] - 33s 1s/step - loss: 8.4604e-06 - accuracy: 1.0000 - val_loss: 0.0054 - val_accuracy: 1.0000\n",
            "Epoch 216/250\n",
            "24/24 [==============================] - 33s 1s/step - loss: 5.8189e-06 - accuracy: 1.0000 - val_loss: 0.0308 - val_accuracy: 0.9929\n",
            "Epoch 217/250\n",
            "24/24 [==============================] - 34s 1s/step - loss: 1.1717e-05 - accuracy: 1.0000 - val_loss: 0.0138 - val_accuracy: 0.9972\n",
            "Epoch 218/250\n",
            "24/24 [==============================] - 33s 1s/step - loss: 8.1371e-06 - accuracy: 1.0000 - val_loss: 0.0122 - val_accuracy: 0.9957\n",
            "Epoch 219/250\n",
            "24/24 [==============================] - 33s 1s/step - loss: 4.8123e-06 - accuracy: 1.0000 - val_loss: 0.0238 - val_accuracy: 0.9943\n",
            "Epoch 220/250\n",
            "24/24 [==============================] - 34s 1s/step - loss: 2.4276e-05 - accuracy: 1.0000 - val_loss: 0.0101 - val_accuracy: 0.9957\n",
            "Epoch 221/250\n",
            "24/24 [==============================] - 33s 1s/step - loss: 1.5920e-05 - accuracy: 1.0000 - val_loss: 0.0296 - val_accuracy: 0.9957\n",
            "Epoch 222/250\n",
            "24/24 [==============================] - 33s 1s/step - loss: 3.9961e-06 - accuracy: 1.0000 - val_loss: 0.0266 - val_accuracy: 0.9972\n",
            "Epoch 223/250\n",
            "24/24 [==============================] - 33s 1s/step - loss: 3.9419e-06 - accuracy: 1.0000 - val_loss: 0.0197 - val_accuracy: 0.9957\n",
            "Epoch 224/250\n",
            "24/24 [==============================] - 32s 1s/step - loss: 6.3945e-06 - accuracy: 1.0000 - val_loss: 0.0135 - val_accuracy: 0.9943\n",
            "Epoch 225/250\n",
            "24/24 [==============================] - 32s 1s/step - loss: 7.6217e-06 - accuracy: 1.0000 - val_loss: 0.0165 - val_accuracy: 0.9943\n",
            "Epoch 226/250\n",
            "24/24 [==============================] - 31s 1s/step - loss: 4.9643e-06 - accuracy: 1.0000 - val_loss: 0.0322 - val_accuracy: 0.9943\n",
            "Epoch 227/250\n",
            "24/24 [==============================] - 31s 1s/step - loss: 3.7919e-06 - accuracy: 1.0000 - val_loss: 0.0148 - val_accuracy: 0.9915\n",
            "Epoch 228/250\n",
            "24/24 [==============================] - 30s 1s/step - loss: 4.9686e-06 - accuracy: 1.0000 - val_loss: 0.0201 - val_accuracy: 0.9972\n",
            "Epoch 229/250\n",
            "24/24 [==============================] - 32s 1s/step - loss: 1.5872e-05 - accuracy: 1.0000 - val_loss: 0.0245 - val_accuracy: 0.9943\n",
            "Epoch 230/250\n",
            "24/24 [==============================] - 34s 1s/step - loss: 8.4472e-06 - accuracy: 1.0000 - val_loss: 0.0085 - val_accuracy: 0.9972\n",
            "Epoch 231/250\n",
            "24/24 [==============================] - 32s 1s/step - loss: 6.1983e-06 - accuracy: 1.0000 - val_loss: 0.0356 - val_accuracy: 0.9957\n",
            "Epoch 232/250\n",
            "24/24 [==============================] - 32s 1s/step - loss: 6.9404e-06 - accuracy: 1.0000 - val_loss: 0.0652 - val_accuracy: 0.9886\n",
            "Epoch 233/250\n",
            "24/24 [==============================] - 34s 1s/step - loss: 9.9405e-06 - accuracy: 1.0000 - val_loss: 0.0241 - val_accuracy: 0.9957\n",
            "Epoch 234/250\n",
            "24/24 [==============================] - 32s 1s/step - loss: 7.0418e-06 - accuracy: 1.0000 - val_loss: 0.0134 - val_accuracy: 0.9972\n",
            "Epoch 235/250\n",
            "24/24 [==============================] - 33s 1s/step - loss: 7.9486e-06 - accuracy: 1.0000 - val_loss: 0.0191 - val_accuracy: 0.9915\n",
            "Epoch 236/250\n",
            "24/24 [==============================] - 32s 1s/step - loss: 1.1661e-05 - accuracy: 1.0000 - val_loss: 0.0431 - val_accuracy: 0.9900\n",
            "Epoch 237/250\n",
            "24/24 [==============================] - 34s 1s/step - loss: 1.2073e-05 - accuracy: 1.0000 - val_loss: 0.0146 - val_accuracy: 0.9957\n",
            "Epoch 238/250\n",
            "24/24 [==============================] - 32s 1s/step - loss: 1.5816e-05 - accuracy: 1.0000 - val_loss: 0.0209 - val_accuracy: 0.9929\n",
            "Epoch 239/250\n",
            "24/24 [==============================] - 33s 1s/step - loss: 3.9242e-05 - accuracy: 1.0000 - val_loss: 0.0226 - val_accuracy: 0.9957\n",
            "Epoch 240/250\n",
            "24/24 [==============================] - 34s 1s/step - loss: 7.4650e-06 - accuracy: 1.0000 - val_loss: 0.0358 - val_accuracy: 0.9915\n",
            "Epoch 241/250\n",
            "24/24 [==============================] - 34s 1s/step - loss: 4.9282e-06 - accuracy: 1.0000 - val_loss: 0.0107 - val_accuracy: 0.9957\n",
            "Epoch 242/250\n",
            "24/24 [==============================] - 32s 1s/step - loss: 7.0843e-06 - accuracy: 1.0000 - val_loss: 0.0201 - val_accuracy: 0.9929\n",
            "Epoch 243/250\n",
            "24/24 [==============================] - 34s 1s/step - loss: 2.6083e-05 - accuracy: 1.0000 - val_loss: 0.0349 - val_accuracy: 0.9929\n",
            "Epoch 244/250\n",
            "24/24 [==============================] - 32s 1s/step - loss: 4.3135e-06 - accuracy: 1.0000 - val_loss: 0.0259 - val_accuracy: 0.9943\n",
            "Epoch 245/250\n",
            "24/24 [==============================] - 32s 1s/step - loss: 3.4270e-06 - accuracy: 1.0000 - val_loss: 0.0273 - val_accuracy: 0.9957\n",
            "Epoch 246/250\n",
            "24/24 [==============================] - 36s 2s/step - loss: 5.9846e-06 - accuracy: 1.0000 - val_loss: 0.0154 - val_accuracy: 0.9957\n",
            "Epoch 247/250\n",
            "24/24 [==============================] - 36s 2s/step - loss: 3.3154e-06 - accuracy: 1.0000 - val_loss: 0.0526 - val_accuracy: 0.9900\n",
            "Epoch 248/250\n",
            "24/24 [==============================] - 33s 1s/step - loss: 1.2340e-05 - accuracy: 1.0000 - val_loss: 0.0100 - val_accuracy: 0.9972\n",
            "Epoch 249/250\n",
            "24/24 [==============================] - 36s 2s/step - loss: 9.9866e-06 - accuracy: 1.0000 - val_loss: 0.0241 - val_accuracy: 0.9929\n",
            "Epoch 250/250\n",
            "24/24 [==============================] - 32s 1s/step - loss: 3.1789e-05 - accuracy: 1.0000 - val_loss: 0.0526 - val_accuracy: 0.9929\n"
          ]
        }
      ]
    },
    {
      "cell_type": "code",
      "metadata": {
        "id": "mCPTE7QWC4hr"
      },
      "source": [
        "#model.save('CNNmodel.h5')\n",
        "model.save('/content/drive/MyDrive/Currency/CurrencyDetectionModel.h5')"
      ],
      "execution_count": 17,
      "outputs": []
    },
    {
      "cell_type": "code",
      "metadata": {
        "id": "jouT6x0bRxak"
      },
      "source": [
        "import matplotlib.image  as mpimg"
      ],
      "execution_count": 18,
      "outputs": []
    },
    {
      "cell_type": "code",
      "metadata": {
        "id": "tgKfA8c7R2lx"
      },
      "source": [
        "acc=history.history['accuracy']\n",
        "val_acc=history.history['val_accuracy']\n",
        "loss=history.history['loss']\n",
        "val_loss=history.history['val_loss']"
      ],
      "execution_count": 19,
      "outputs": []
    },
    {
      "cell_type": "code",
      "metadata": {
        "id": "UMr3tAQGR6pZ"
      },
      "source": [
        " epochs=range(len(acc)) # Get number of epochs"
      ],
      "execution_count": 20,
      "outputs": []
    },
    {
      "cell_type": "code",
      "metadata": {
        "id": "Fofet8ZvR96b",
        "colab": {
          "base_uri": "https://localhost:8080/",
          "height": 316
        },
        "outputId": "5bd54ac6-a2d2-4c40-c006-292eb76a632a"
      },
      "source": [
        "# Plot training and validation accuracy per epoch\n",
        "# #------------------------------------------------\n",
        "plt.plot(epochs, acc, 'r', \"Training Accuracy\")\n",
        "plt.plot(epochs, val_acc, 'b', \"Validation Accuracy\")\n",
        "plt.title('Training and validation accuracy')\n",
        "plt.figure()"
      ],
      "execution_count": 21,
      "outputs": [
        {
          "output_type": "execute_result",
          "data": {
            "text/plain": [
              "<Figure size 432x288 with 0 Axes>"
            ]
          },
          "metadata": {},
          "execution_count": 21
        },
        {
          "output_type": "display_data",
          "data": {
            "text/plain": [
              "<Figure size 432x288 with 1 Axes>"
            ],
            "image/png": "[encoded data removed]"
          },
          "metadata": {
            "needs_background": "light"
          }
        },
        {
          "output_type": "display_data",
          "data": {
            "text/plain": [
              "<Figure size 432x288 with 0 Axes>"
            ]
          },
          "metadata": {}
        }
      ]
    },
    {
      "cell_type": "code",
      "metadata": {
        "id": "FoyJwWu6SB-6",
        "colab": {
          "base_uri": "https://localhost:8080/",
          "height": 300
        },
        "outputId": "799f25d4-d69c-476d-8402-1243380d5922"
      },
      "source": [
        "plt.plot(epochs, loss, 'r', \"Training Loss\")\n",
        "plt.plot(epochs, val_loss, 'b', \"Validation Loss\")\n",
        "plt.figure()"
      ],
      "execution_count": 22,
      "outputs": [
        {
          "output_type": "execute_result",
          "data": {
            "text/plain": [
              "<Figure size 432x288 with 0 Axes>"
            ]
          },
          "metadata": {},
          "execution_count": 22
        },
        {
          "output_type": "display_data",
          "data": {
            "text/plain": [
              "<Figure size 432x288 with 1 Axes>"
            ],
            "image/png": "[encoded data removed]"
          },
          "metadata": {
            "needs_background": "light"
          }
        },
        {
          "output_type": "display_data",
          "data": {
            "text/plain": [
              "<Figure size 432x288 with 0 Axes>"
            ]
          },
          "metadata": {}
        }
      ]
    },
    {
      "cell_type": "code",
      "metadata": {
        "colab": {
          "base_uri": "https://localhost:8080/"
        },
        "id": "BXvD91jF-peP",
        "outputId": "a3f0ba67-2381-4b62-88e9-e7478bf669ac"
      },
      "source": [
        "generator= train_datagen.flow_from_directory('/content/drive/MyDrive/dataset/Traindata', batch_size=10)\n",
        "label_map = (generator.class_indices)"
      ],
      "execution_count": 23,
      "outputs": [
        {
          "output_type": "stream",
          "name": "stdout",
          "text": [
            "Found 700 images belonging to 7 classes.\n"
          ]
        }
      ]
    },
    {
      "cell_type": "code",
      "metadata": {
        "id": "4Cfc9Kjg-rgK",
        "colab": {
          "base_uri": "https://localhost:8080/"
        },
        "outputId": "c17bd3ff-9c75-4d2b-8925-6fe92c575e50"
      },
      "source": [
        "label_map"
      ],
      "execution_count": 24,
      "outputs": [
        {
          "output_type": "execute_result",
          "data": {
            "text/plain": [
              "{'10': 0, '100': 1, '1000': 2, '20': 3, '50': 4, '500': 5, '5000': 6}"
            ]
          },
          "metadata": {},
          "execution_count": 24
        }
      ]
    },
    {
      "cell_type": "code",
      "metadata": {
        "colab": {
          "base_uri": "https://localhost:8080/"
        },
        "id": "RBfyRcA78Znw",
        "outputId": "32fee02c-541c-42dd-cf73-2f3e997f06ae"
      },
      "source": [
        "image = keras.preprocessing.image\n",
        "model = keras.models.load_model('/content/drive/MyDrive/Currency/CurrencyDetectionModel.h5')\n",
        "#path to any image to be predicted\n",
        "path = '/content/drive/MyDrive/train/10/10B1_0_1349.jpeg'\n",
        "dim = (256,256)\n",
        "img = image.load_img(path,target_size=(256,256))\n",
        "#img = cv2.imread(path, cv2.IMREAD_UNCHANGED) \n",
        "#resized = cv2.resize(img, dim, interpolation = cv2.INTER_AREA)\n",
        "#img = np.array(resized,dtype='float32')/255\n",
        "x = image.img_to_array(img)\n",
        "x = np.expand_dims(x, axis=0)\n",
        "#[x] can be an array of images \n",
        "#images = np.vstack([x])\n",
        "#classes = model.predict_class(x)\n",
        "predict = model.predict(x)\n",
        "predict = np.argmax(predict,axis=1)\n",
        "print(predict)\n",
        "# Desired output. Charts with training and validation metrics. No crash :)"
      ],
      "execution_count": 29,
      "outputs": [
        {
          "output_type": "stream",
          "name": "stdout",
          "text": [
            "WARNING:tensorflow:AutoGraph could not transform <function Model.make_predict_function.<locals>.predict_function at 0x7fa78dde6dd0> and will run it as-is.\n",
            "Please report this to the TensorFlow team. When filing the bug, set the verbosity to 10 (on Linux, `export AUTOGRAPH_VERBOSITY=10`) and attach the full output.\n",
            "Cause: closure mismatch, requested ('self', 'step_function'), but source function had ()\n",
            "To silence this warning, decorate the function with @tf.autograph.experimental.do_not_convert\n",
            "WARNING: AutoGraph could not transform <function Model.make_predict_function.<locals>.predict_function at 0x7fa78dde6dd0> and will run it as-is.\n",
            "Please report this to the TensorFlow team. When filing the bug, set the verbosity to 10 (on Linux, `export AUTOGRAPH_VERBOSITY=10`) and attach the full output.\n",
            "Cause: closure mismatch, requested ('self', 'step_function'), but source function had ()\n",
            "To silence this warning, decorate the function with @tf.autograph.experimental.do_not_convert\n",
            "[0]\n"
          ]
        }
      ]
    },
    {
      "cell_type": "code",
      "metadata": {
        "colab": {
          "base_uri": "https://localhost:8080/"
        },
        "id": "45aLMaz0P1b3",
        "outputId": "ef1032c9-a434-42bc-e324-d339766ea3b2"
      },
      "source": [
        "predict"
      ],
      "execution_count": 30,
      "outputs": [
        {
          "output_type": "execute_result",
          "data": {
            "text/plain": [
              "array([0])"
            ]
          },
          "metadata": {},
          "execution_count": 30
        }
      ]
    },
    {
      "cell_type": "code",
      "metadata": {
        "id": "Ks3bFLSBAajJ",
        "colab": {
          "base_uri": "https://localhost:8080/"
        },
        "outputId": "ce598a4a-ab75-4448-f8b9-8231779d0d7d"
      },
      "source": [
        "if predict == 0:\n",
        "  n = '10 Rupees'\n",
        "  print(n)\n",
        "elif predict == 1:\n",
        " n = '100 Rupees'\n",
        " print(n) \n",
        "elif predict == 2:\n",
        "   n = '1000 Rupees'\n",
        "   print(n)\n",
        "elif predict == 3:\n",
        "  n = '20 Rupees'\n",
        "  print(n)\n",
        "elif predict == 4:\n",
        "  n = '50 Rupees'\n",
        "  print(n)\n",
        "elif predict == 5:\n",
        "  n = '500 Rupees'\n",
        "  print(n)\n",
        "elif predict == 6:\n",
        "  n = '5000 Rupees'\n",
        "  print(n)          "
      ],
      "execution_count": 31,
      "outputs": [
        {
          "output_type": "stream",
          "name": "stdout",
          "text": [
            "10 Rupees\n"
          ]
        }
      ]
    },
    {
      "cell_type": "code",
      "metadata": {
        "colab": {
          "base_uri": "https://localhost:8080/",
          "height": 61
        },
        "id": "pTr_ZdZKvz_Q",
        "outputId": "95a3c3eb-3f89-4262-9ec5-23828771bdca"
      },
      "source": [
        "tts = gTTS(n) #Provide the string to convert to speech\n",
        "tts.save('1.wav') #save the string converted to speech as a .wav file\n",
        "sound_file = '1.wav'\n",
        "Audio(sound_file, autoplay=True)"
      ],
      "execution_count": 32,
      "outputs": [
        {
          "output_type": "execute_result",
          "data": {
            "text/plain": [
              "<IPython.lib.display.Audio object>"
            ],
            "text/html": [
              "\n",
              "                <audio controls=\"controls\" autoplay=\"autoplay\">\n",
              "                    <source src=\"data:audio/x-wav;base64,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\" type=\"audio/x-wav\" />\n",
              "                    Your browser does not support the audio element.\n",
              "                </audio>\n",
              "              "
            ]
          },
          "metadata": {},
          "execution_count": 32
        }
      ]
    },
    {
      "cell_type": "code",
      "source": [
        "\n",
        "\n",
        "import tensorflow as tf\n",
        "\n",
        "model = tf.keras.models.load_model('/content/drive/MyDrive/Currency/CurrencyDetectionModel.h5')\n",
        "converter = tf.lite.TFLiteConverter.from_keras_model(model)\n",
        "tflite_model = converter.convert()\n",
        "open(\"CurrencyDetection.tflite\", \"wb\").write(tflite_model)\n",
        "\n"
      ],
      "metadata": {
        "colab": {
          "base_uri": "https://localhost:8080/"
        },
        "id": "dsvgIoM2QIrn",
        "outputId": "f739a55e-901a-4488-ab7a-6a3a67be57c6"
      },
      "execution_count": 33,
      "outputs": [
        {
          "output_type": "stream",
          "name": "stdout",
          "text": [
            "INFO:tensorflow:Assets written to: /tmp/tmp2rfzl3x5/assets\n"
          ]
        },
        {
          "output_type": "stream",
          "name": "stderr",
          "text": [
            "WARNING:absl:Buffer deduplication procedure will be skipped when flatbuffer library is not properly loaded\n"
          ]
        },
        {
          "output_type": "execute_result",
          "data": {
            "text/plain": [
              "118081204"
            ]
          },
          "metadata": {},
          "execution_count": 33
        }
      ]
    },
    {
      "cell_type": "code",
      "source": [
        "!cp /content/CurrencyDetection.tflite /content/drive/MyDrive/Currency"
      ],
      "metadata": {
        "id": "xUlKxpBmQjXb"
      },
      "execution_count": 34,
      "outputs": []
    }
  ]
}